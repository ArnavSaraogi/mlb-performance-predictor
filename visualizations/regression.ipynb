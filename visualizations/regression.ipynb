{
 "cells": [
  {
   "cell_type": "markdown",
   "metadata": {},
   "source": [
    "# Correlation & Regression\n",
    "There's a moderate ($r$ = -0.4 to -0.5) negative correlation between (stat-xstat) and how players perform the following season relative to their previous season. The p-values are also very low (< 0.00001), indicating that the correlation is statistically significant. It is important to note that $r^{2}$ for the graphs only range from 0.19 to 0.24, meaning that only 19-24% of variance in the change in OPS is explained by the difference in actual and expected statistics.\n"
   ]
  },
  {
   "cell_type": "code",
   "execution_count": 37,
   "metadata": {},
   "outputs": [],
   "source": [
    "import pandas as pd\n",
    "from scipy import stats\n",
    "import numpy as np\n",
    "import matplotlib.pyplot as plt\n",
    "from sklearn import linear_model\n",
    "\n",
    "df = pd.read_csv('../out.csv')"
   ]
  },
  {
   "cell_type": "code",
   "execution_count": 38,
   "metadata": {},
   "outputs": [
    {
     "data": {
      "text/html": [
       "<div>\n",
       "<style scoped>\n",
       "    .dataframe tbody tr th:only-of-type {\n",
       "        vertical-align: middle;\n",
       "    }\n",
       "\n",
       "    .dataframe tbody tr th {\n",
       "        vertical-align: top;\n",
       "    }\n",
       "\n",
       "    .dataframe thead th {\n",
       "        text-align: right;\n",
       "    }\n",
       "</style>\n",
       "<table border=\"1\" class=\"dataframe\">\n",
       "  <thead>\n",
       "    <tr style=\"text-align: right;\">\n",
       "      <th></th>\n",
       "      <th>r</th>\n",
       "      <th>r^2</th>\n",
       "      <th>p</th>\n",
       "    </tr>\n",
       "    <tr>\n",
       "      <th>graph</th>\n",
       "      <th></th>\n",
       "      <th></th>\n",
       "      <th></th>\n",
       "    </tr>\n",
       "  </thead>\n",
       "  <tbody>\n",
       "    <tr>\n",
       "      <th>%ΔOPS vs wOBA-xwOBA</th>\n",
       "      <td>-0.493158</td>\n",
       "      <td>0.243205</td>\n",
       "      <td>1.207382e-07</td>\n",
       "    </tr>\n",
       "    <tr>\n",
       "      <th>%ΔOPS vs SLG - xSLG</th>\n",
       "      <td>-0.435986</td>\n",
       "      <td>0.190083</td>\n",
       "      <td>4.159457e-06</td>\n",
       "    </tr>\n",
       "    <tr>\n",
       "      <th>%ΔOPS vs BA - xBA</th>\n",
       "      <td>-0.494272</td>\n",
       "      <td>0.244305</td>\n",
       "      <td>1.119548e-07</td>\n",
       "    </tr>\n",
       "  </tbody>\n",
       "</table>\n",
       "</div>"
      ],
      "text/plain": [
       "                            r       r^2             p\n",
       "graph                                                \n",
       "%ΔOPS vs wOBA-xwOBA -0.493158  0.243205  1.207382e-07\n",
       "%ΔOPS vs SLG - xSLG -0.435986  0.190083  4.159457e-06\n",
       "%ΔOPS vs BA - xBA   -0.494272  0.244305  1.119548e-07"
      ]
     },
     "metadata": {},
     "output_type": "display_data"
    }
   ],
   "source": [
    "rwoba, pwoba = stats.pearsonr(df['wobadiff (2023)'], df['ops_change 2023-2024'])\n",
    "rslg, pslg = stats.pearsonr(df['xslgdiff (2023)'], df['ops_change 2023-2024'])\n",
    "rba, pba = stats.pearsonr(df['xbadiff (2023)'], df['ops_change 2023-2024'])\n",
    "\n",
    "data = {\n",
    "    '%ΔOPS vs wOBA-xwOBA': [rwoba, rwoba **2, pwoba],\n",
    "    '%ΔOPS vs SLG - xSLG': [rslg, rslg **2, pslg], \n",
    "    '%ΔOPS vs BA - xBA': [rba, rba**2, pba]\n",
    "}\n",
    "\n",
    "df = pd.DataFrame.from_dict(data, orient='index', columns=['r', 'r^2', 'p'])\n",
    "df.rename_axis(\"graph\", inplace=True)\n",
    "display(df)"
   ]
  }
 ],
 "metadata": {
  "kernelspec": {
   "display_name": "base",
   "language": "python",
   "name": "python3"
  },
  "language_info": {
   "codemirror_mode": {
    "name": "ipython",
    "version": 3
   },
   "file_extension": ".py",
   "mimetype": "text/x-python",
   "name": "python",
   "nbconvert_exporter": "python",
   "pygments_lexer": "ipython3",
   "version": "3.12.7"
  }
 },
 "nbformat": 4,
 "nbformat_minor": 2
}
