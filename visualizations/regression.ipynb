{
 "cells": [
  {
   "cell_type": "markdown",
   "metadata": {},
   "source": [
    "# Correlation & Regression\n",
    "There's a moderate (r = -0.4 to -0.5) negative correlation between (stat-xstat) and how players perform the following season relative to their previous season."
   ]
  },
  {
   "cell_type": "code",
   "execution_count": 6,
   "metadata": {},
   "outputs": [],
   "source": [
    "import pandas as pd\n",
    "import numpy as np\n",
    "import matplotlib.pyplot as plt\n",
    "from sklearn import linear_model\n",
    "\n",
    "df = pd.read_csv('../out.csv')"
   ]
  },
  {
   "cell_type": "code",
   "execution_count": 7,
   "metadata": {},
   "outputs": [
    {
     "data": {
      "text/html": [
       "<div>\n",
       "<style scoped>\n",
       "    .dataframe tbody tr th:only-of-type {\n",
       "        vertical-align: middle;\n",
       "    }\n",
       "\n",
       "    .dataframe tbody tr th {\n",
       "        vertical-align: top;\n",
       "    }\n",
       "\n",
       "    .dataframe thead th {\n",
       "        text-align: right;\n",
       "    }\n",
       "</style>\n",
       "<table border=\"1\" class=\"dataframe\">\n",
       "  <thead>\n",
       "    <tr style=\"text-align: right;\">\n",
       "      <th></th>\n",
       "      <th>wobadiff (2023)</th>\n",
       "      <th>ops_change 2023-2024</th>\n",
       "    </tr>\n",
       "  </thead>\n",
       "  <tbody>\n",
       "    <tr>\n",
       "      <th>wobadiff (2023)</th>\n",
       "      <td>1.000000</td>\n",
       "      <td>-0.493158</td>\n",
       "    </tr>\n",
       "    <tr>\n",
       "      <th>ops_change 2023-2024</th>\n",
       "      <td>-0.493158</td>\n",
       "      <td>1.000000</td>\n",
       "    </tr>\n",
       "  </tbody>\n",
       "</table>\n",
       "</div>"
      ],
      "text/plain": [
       "                      wobadiff (2023)  ops_change 2023-2024\n",
       "wobadiff (2023)              1.000000             -0.493158\n",
       "ops_change 2023-2024        -0.493158              1.000000"
      ]
     },
     "metadata": {},
     "output_type": "display_data"
    },
    {
     "data": {
      "text/html": [
       "<div>\n",
       "<style scoped>\n",
       "    .dataframe tbody tr th:only-of-type {\n",
       "        vertical-align: middle;\n",
       "    }\n",
       "\n",
       "    .dataframe tbody tr th {\n",
       "        vertical-align: top;\n",
       "    }\n",
       "\n",
       "    .dataframe thead th {\n",
       "        text-align: right;\n",
       "    }\n",
       "</style>\n",
       "<table border=\"1\" class=\"dataframe\">\n",
       "  <thead>\n",
       "    <tr style=\"text-align: right;\">\n",
       "      <th></th>\n",
       "      <th>xslgdiff (2023)</th>\n",
       "      <th>ops_change 2023-2024</th>\n",
       "    </tr>\n",
       "  </thead>\n",
       "  <tbody>\n",
       "    <tr>\n",
       "      <th>xslgdiff (2023)</th>\n",
       "      <td>1.000000</td>\n",
       "      <td>-0.435986</td>\n",
       "    </tr>\n",
       "    <tr>\n",
       "      <th>ops_change 2023-2024</th>\n",
       "      <td>-0.435986</td>\n",
       "      <td>1.000000</td>\n",
       "    </tr>\n",
       "  </tbody>\n",
       "</table>\n",
       "</div>"
      ],
      "text/plain": [
       "                      xslgdiff (2023)  ops_change 2023-2024\n",
       "xslgdiff (2023)              1.000000             -0.435986\n",
       "ops_change 2023-2024        -0.435986              1.000000"
      ]
     },
     "metadata": {},
     "output_type": "display_data"
    },
    {
     "data": {
      "text/html": [
       "<div>\n",
       "<style scoped>\n",
       "    .dataframe tbody tr th:only-of-type {\n",
       "        vertical-align: middle;\n",
       "    }\n",
       "\n",
       "    .dataframe tbody tr th {\n",
       "        vertical-align: top;\n",
       "    }\n",
       "\n",
       "    .dataframe thead th {\n",
       "        text-align: right;\n",
       "    }\n",
       "</style>\n",
       "<table border=\"1\" class=\"dataframe\">\n",
       "  <thead>\n",
       "    <tr style=\"text-align: right;\">\n",
       "      <th></th>\n",
       "      <th>xbadiff (2023)</th>\n",
       "      <th>ops_change 2023-2024</th>\n",
       "    </tr>\n",
       "  </thead>\n",
       "  <tbody>\n",
       "    <tr>\n",
       "      <th>xbadiff (2023)</th>\n",
       "      <td>1.000000</td>\n",
       "      <td>-0.494272</td>\n",
       "    </tr>\n",
       "    <tr>\n",
       "      <th>ops_change 2023-2024</th>\n",
       "      <td>-0.494272</td>\n",
       "      <td>1.000000</td>\n",
       "    </tr>\n",
       "  </tbody>\n",
       "</table>\n",
       "</div>"
      ],
      "text/plain": [
       "                      xbadiff (2023)  ops_change 2023-2024\n",
       "xbadiff (2023)              1.000000             -0.494272\n",
       "ops_change 2023-2024       -0.494272              1.000000"
      ]
     },
     "metadata": {},
     "output_type": "display_data"
    }
   ],
   "source": [
    "woba_corr = df[['wobadiff (2023)', 'ops_change 2023-2024']].corr()\n",
    "slg_corr = df[['xslgdiff (2023)', 'ops_change 2023-2024']].corr()\n",
    "ba_corr = df[['xbadiff (2023)', 'ops_change 2023-2024']].corr()\n",
    "\n",
    "display(woba_corr)\n",
    "display(slg_corr)\n",
    "display(ba_corr)"
   ]
  }
 ],
 "metadata": {
  "kernelspec": {
   "display_name": "base",
   "language": "python",
   "name": "python3"
  },
  "language_info": {
   "codemirror_mode": {
    "name": "ipython",
    "version": 3
   },
   "file_extension": ".py",
   "mimetype": "text/x-python",
   "name": "python",
   "nbconvert_exporter": "python",
   "pygments_lexer": "ipython3",
   "version": "3.12.7"
  }
 },
 "nbformat": 4,
 "nbformat_minor": 2
}
