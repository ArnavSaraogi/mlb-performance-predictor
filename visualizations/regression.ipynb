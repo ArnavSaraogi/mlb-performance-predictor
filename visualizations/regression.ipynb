{
 "cells": [
  {
   "cell_type": "markdown",
   "metadata": {},
   "source": [
    "# Regression Model\n",
    "I chose to use ridge regression, which addresses multicollinearity issues and avoids overfitting based on a single season. It's also important to note that predicted OPS is calculated by subtracting the league average change in OPS from 2023 to 2024 from the results of the regression. This is because the league-wide decrease in OPS skewed the regression, leading to it predicting that 95% of players will have worse outcomes in 2025. These predictions are based on the assumption that the league average change in OPS next season will be 0."
   ]
  },
  {
   "cell_type": "code",
   "execution_count": 924,
   "metadata": {},
   "outputs": [],
   "source": [
    "import pandas as pd\n",
    "from sklearn.preprocessing import StandardScaler\n",
    "from sklearn.impute import SimpleImputer\n",
    "from sklearn.model_selection import GridSearchCV\n",
    "from sklearn.linear_model import Ridge\n",
    "from sklearn.pipeline import Pipeline\n",
    "\n",
    "df = pd.read_csv('../out.csv')"
   ]
  },
  {
   "cell_type": "code",
   "execution_count": 925,
   "metadata": {},
   "outputs": [
    {
     "name": "stdout",
     "output_type": "stream",
     "text": [
      "Best Parameters: {'imputer__strategy': 'median', 'ridge__alpha': 70}\n",
      "Best Score: 0.18479707616244\n",
      "Intercept: -3.616856416780667\n"
     ]
    },
    {
     "data": {
      "text/html": [
       "<div>\n",
       "<style scoped>\n",
       "    .dataframe tbody tr th:only-of-type {\n",
       "        vertical-align: middle;\n",
       "    }\n",
       "\n",
       "    .dataframe tbody tr th {\n",
       "        vertical-align: top;\n",
       "    }\n",
       "\n",
       "    .dataframe thead th {\n",
       "        text-align: right;\n",
       "    }\n",
       "</style>\n",
       "<table border=\"1\" class=\"dataframe\">\n",
       "  <thead>\n",
       "    <tr style=\"text-align: right;\">\n",
       "      <th></th>\n",
       "      <th>wOBA-xwOBA</th>\n",
       "      <th>SLG-xSLG</th>\n",
       "      <th>BA-xBA</th>\n",
       "      <th>BABIP Diff</th>\n",
       "      <th>HR-xHR</th>\n",
       "    </tr>\n",
       "  </thead>\n",
       "  <tbody>\n",
       "    <tr>\n",
       "      <th>Coefficients</th>\n",
       "      <td>-1.640897</td>\n",
       "      <td>-1.166776</td>\n",
       "      <td>-1.501314</td>\n",
       "      <td>-1.205142</td>\n",
       "      <td>-1.527901</td>\n",
       "    </tr>\n",
       "  </tbody>\n",
       "</table>\n",
       "</div>"
      ],
      "text/plain": [
       "              wOBA-xwOBA  SLG-xSLG    BA-xBA  BABIP Diff    HR-xHR\n",
       "Coefficients   -1.640897 -1.166776 -1.501314   -1.205142 -1.527901"
      ]
     },
     "metadata": {},
     "output_type": "display_data"
    }
   ],
   "source": [
    "names = df[['last_name, first_name', 'on_base_plus_slg (2024)']]\n",
    "\n",
    "df.drop(columns = ['player_id', 'last_name, first_name'], inplace=True)\n",
    "\n",
    "X = df[['wobadiff (2023)', 'xslgdiff (2023)', 'xbadiff (2023)' , 'babipdiff (2023)', 'xhrdiff (2023)']]\n",
    "y = df['ops_change 2023-2024']\n",
    "\n",
    "steps = [('imputer', SimpleImputer()),\n",
    "         ('scaler', StandardScaler()),\n",
    "         ('ridge', Ridge())]\n",
    "\n",
    "parameters = {'imputer__strategy': ['mean', 'median'],\n",
    "              'ridge__alpha': [x for x in range(0, 100)]}\n",
    "\n",
    "pipeline = Pipeline(steps=steps)\n",
    "clf = GridSearchCV(pipeline, param_grid=parameters, cv=5)\n",
    "\n",
    "clf.fit(X, y)\n",
    "\n",
    "best_model = clf.best_estimator_.named_steps['ridge']\n",
    "\n",
    "print(f\"Best Parameters: {clf.best_params_}\" \n",
    "      f\"\\nBest Score: {clf.best_score_}\" \n",
    "      f\"\\nIntercept: {best_model.intercept_}\")\n",
    "\n",
    "values = {'Coefficients': best_model.coef_}\n",
    "values_df = pd.DataFrame.from_dict(values, orient='index', columns=['wOBA-xwOBA', 'SLG-xSLG', 'BA-xBA', 'BABIP Diff', 'HR-xHR'])\n",
    "\n",
    "display(values_df)\n",
    "\n",
    "stats_2024 = df[['wobadiff (2024)', 'xslgdiff (2024)', 'xbadiff (2024)' , 'babipdiff (2024)', 'xhrdiff (2024)']]\n",
    "stats_2024.fillna(value=stats_2024.mean(), inplace=True)\n",
    "predictions = pd.DataFrame.join(names, pd.DataFrame(best_model.predict(stats_2024), columns=['% Change OPS']))\n",
    "predictions['% Change Relative to League Avg Change'] = predictions['% Change OPS'] - df['ops_change 2023-2024'].mean()\n",
    "predictions['Predicted 2025 OPS'] = predictions['on_base_plus_slg (2024)'] * (1 + (predictions['% Change Relative to League Avg Change'])/100)\n",
    "\n",
    "predictions.to_csv('../predictions.csv')"
   ]
  }
 ],
 "metadata": {
  "kernelspec": {
   "display_name": "base",
   "language": "python",
   "name": "python3"
  },
  "language_info": {
   "codemirror_mode": {
    "name": "ipython",
    "version": 3
   },
   "file_extension": ".py",
   "mimetype": "text/x-python",
   "name": "python",
   "nbconvert_exporter": "python",
   "pygments_lexer": "ipython3",
   "version": "3.12.7"
  }
 },
 "nbformat": 4,
 "nbformat_minor": 2
}
