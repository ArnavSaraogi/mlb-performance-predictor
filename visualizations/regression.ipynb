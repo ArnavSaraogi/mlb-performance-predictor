{
 "cells": [
  {
   "cell_type": "markdown",
   "metadata": {},
   "source": [
    "# Analysis\n",
    "Below is data concerning the 2023-2024 seasons. There's a moderate ($r$ = -0.4 to -0.5) negative correlation between (stat-xstat) and how players perform the following season relative to their previous season. The p-values are also very low (< 0.00001), indicating that the correlation is statistically significant. It is important to note that $r^{2}$ for the graphs only range from 0.19 to 0.24, meaning that only 19-24% of variance in the change in OPS is explained by the difference in actual and expected statistics.\n"
   ]
  },
  {
   "cell_type": "code",
   "execution_count": 41,
   "metadata": {},
   "outputs": [],
   "source": [
    "import pandas as pd\n",
    "from scipy import stats\n",
    "\n",
    "df = pd.read_csv('../out.csv')"
   ]
  },
  {
   "cell_type": "code",
   "execution_count": 42,
   "metadata": {},
   "outputs": [
    {
     "data": {
      "text/html": [
       "<div>\n",
       "<style scoped>\n",
       "    .dataframe tbody tr th:only-of-type {\n",
       "        vertical-align: middle;\n",
       "    }\n",
       "\n",
       "    .dataframe tbody tr th {\n",
       "        vertical-align: top;\n",
       "    }\n",
       "\n",
       "    .dataframe thead th {\n",
       "        text-align: right;\n",
       "    }\n",
       "</style>\n",
       "<table border=\"1\" class=\"dataframe\">\n",
       "  <thead>\n",
       "    <tr style=\"text-align: right;\">\n",
       "      <th></th>\n",
       "      <th>r</th>\n",
       "      <th>r^2</th>\n",
       "      <th>p</th>\n",
       "    </tr>\n",
       "    <tr>\n",
       "      <th>graph</th>\n",
       "      <th></th>\n",
       "      <th></th>\n",
       "      <th></th>\n",
       "    </tr>\n",
       "  </thead>\n",
       "  <tbody>\n",
       "    <tr>\n",
       "      <th>%ΔOPS vs wOBA-xwOBA</th>\n",
       "      <td>-0.454729</td>\n",
       "      <td>0.206779</td>\n",
       "      <td>5.861345e-12</td>\n",
       "    </tr>\n",
       "    <tr>\n",
       "      <th>%ΔOPS vs SLG - xSLG</th>\n",
       "      <td>-0.422607</td>\n",
       "      <td>0.178596</td>\n",
       "      <td>2.251576e-10</td>\n",
       "    </tr>\n",
       "    <tr>\n",
       "      <th>%ΔOPS vs BA - xBA</th>\n",
       "      <td>-0.422587</td>\n",
       "      <td>0.178580</td>\n",
       "      <td>2.256196e-10</td>\n",
       "    </tr>\n",
       "    <tr>\n",
       "      <th>%ΔOPS vs HR - xHR</th>\n",
       "      <td>-0.228158</td>\n",
       "      <td>0.052056</td>\n",
       "      <td>1.123589e-03</td>\n",
       "    </tr>\n",
       "    <tr>\n",
       "      <th>%ΔOPS vs 2023 BABIP - Career BABIP</th>\n",
       "      <td>-0.302709</td>\n",
       "      <td>0.091632</td>\n",
       "      <td>8.156711e-05</td>\n",
       "    </tr>\n",
       "  </tbody>\n",
       "</table>\n",
       "</div>"
      ],
      "text/plain": [
       "                                           r       r^2             p\n",
       "graph                                                               \n",
       "%ΔOPS vs wOBA-xwOBA                -0.454729  0.206779  5.861345e-12\n",
       "%ΔOPS vs SLG - xSLG                -0.422607  0.178596  2.251576e-10\n",
       "%ΔOPS vs BA - xBA                  -0.422587  0.178580  2.256196e-10\n",
       "%ΔOPS vs HR - xHR                  -0.228158  0.052056  1.123589e-03\n",
       "%ΔOPS vs 2023 BABIP - Career BABIP -0.302709  0.091632  8.156711e-05"
      ]
     },
     "metadata": {},
     "output_type": "display_data"
    }
   ],
   "source": [
    "rwoba, pwoba = stats.pearsonr(df['wobadiff (2023)'], df['ops_change 2023-2024'])\n",
    "rslg, pslg = stats.pearsonr(df['xslgdiff (2023)'], df['ops_change 2023-2024'])\n",
    "adjusted_df = df.dropna()\n",
    "rhr, phr = stats.pearsonr(adjusted_df['xhrdiff (2023)'], adjusted_df['ops_change 2023-2024'])\n",
    "rba, pba = stats.pearsonr(df['xbadiff (2023)'], df['ops_change 2023-2024'])\n",
    "\n",
    "filtered_df = df[df['babipdiff (2023)'] != 0] #ignores 2023 rookies, since babip for that season = career babip\n",
    "rbabip, pbabip = stats.pearsonr(filtered_df['babipdiff (2023)'], filtered_df['ops_change 2023-2024'])\n",
    "\n",
    "data = {\n",
    "    '%ΔOPS vs wOBA-xwOBA': [rwoba, rwoba**2, pwoba],\n",
    "    '%ΔOPS vs SLG - xSLG': [rslg, rslg**2, pslg], \n",
    "    '%ΔOPS vs BA - xBA': [rba, rba**2, pba],\n",
    "    '%ΔOPS vs HR - xHR': [rhr, rhr**2, phr],\n",
    "    '%ΔOPS vs 2023 BABIP - Career BABIP': [rbabip, rbabip**2, pbabip]\n",
    "}\n",
    "\n",
    "values_df = pd.DataFrame.from_dict(data, orient='index', columns=['r', 'r^2', 'p'])\n",
    "values_df.rename_axis(\"graph\", inplace=True)\n",
    "display(values_df)"
   ]
  }
 ],
 "metadata": {
  "kernelspec": {
   "display_name": "base",
   "language": "python",
   "name": "python3"
  },
  "language_info": {
   "codemirror_mode": {
    "name": "ipython",
    "version": 3
   },
   "file_extension": ".py",
   "mimetype": "text/x-python",
   "name": "python",
   "nbconvert_exporter": "python",
   "pygments_lexer": "ipython3",
   "version": "3.12.7"
  }
 },
 "nbformat": 4,
 "nbformat_minor": 2
}
